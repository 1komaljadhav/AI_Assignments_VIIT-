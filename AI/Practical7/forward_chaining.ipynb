{
  "nbformat": 4,
  "nbformat_minor": 0,
  "metadata": {
    "colab": {
      "provenance": [],
      "gpuType": "T4"
    },
    "kernelspec": {
      "name": "python3",
      "display_name": "Python 3"
    },
    "language_info": {
      "name": "python"
    },
    "accelerator": "GPU"
  },
  "cells": [
    {
      "cell_type": "code",
      "source": [
        "class ForwardChaining:\n",
        "    def __init__(self, rules, facts):\n",
        "        self.rules = rules  # List of rules as tuples (conditions, conclusion)\n",
        "        self.facts = facts  # Initial known facts\n",
        "        self.inferred = set()  # Inferred facts\n",
        "\n",
        "    def apply_rule(self, rule):\n",
        "        conditions, conclusion = rule\n",
        "        # Check if all conditions of the rule are true\n",
        "        if all(condition in self.facts for condition in conditions):\n",
        "            return conclusion\n",
        "        return None\n",
        "\n",
        "    def infer(self):\n",
        "        new_inferences = True\n",
        "\n",
        "        while new_inferences:\n",
        "            new_inferences = False\n",
        "            for rule in self.rules:\n",
        "                conclusion = self.apply_rule(rule)\n",
        "                if conclusion and conclusion not in self.facts:\n",
        "                    self.facts.add(conclusion)\n",
        "                    self.inferred.add(conclusion)\n",
        "                    new_inferences = True\n",
        "                    print(f\"Inferred: {conclusion}\")\n",
        "\n",
        "        return self.facts\n",
        "\n",
        "\n",
        "# Example of usage:\n",
        "\n",
        "# Define the rules: Each rule is a tuple (conditions, conclusion)\n",
        "# Example rule: If A and B are true, then C is true -> (['A', 'B'], 'C')\n",
        "rules = [\n",
        "    (['A', 'B'], 'C'),\n",
        "    (['C'], 'D'),\n",
        "    (['D'], 'E'),\n",
        "    (['B', 'E'], 'F')\n",
        "]\n",
        "\n",
        "# Initial known facts\n",
        "facts = {'A', 'B'}\n",
        "\n",
        "# Initialize forward chaining system\n",
        "fc = ForwardChaining(rules, facts)\n",
        "\n",
        "# Run inference\n",
        "final_facts = fc.infer()\n",
        "\n",
        "print(\"\\nFinal Inferred Facts:\", final_facts)\n"
      ],
      "metadata": {
        "colab": {
          "base_uri": "https://localhost:8080/"
        },
        "id": "L2OBUzxpWSnp",
        "outputId": "e4c943d4-c257-48d4-853e-fc477ba6396f"
      },
      "execution_count": 1,
      "outputs": [
        {
          "output_type": "stream",
          "name": "stdout",
          "text": [
            "Inferred: C\n",
            "Inferred: D\n",
            "Inferred: E\n",
            "Inferred: F\n",
            "\n",
            "Final Inferred Facts: {'A', 'D', 'C', 'B', 'F', 'E'}\n"
          ]
        }
      ]
    },
    {
      "cell_type": "code",
      "source": [],
      "metadata": {
        "id": "8krnWuqCWTEI"
      },
      "execution_count": null,
      "outputs": []
    }
  ]
}