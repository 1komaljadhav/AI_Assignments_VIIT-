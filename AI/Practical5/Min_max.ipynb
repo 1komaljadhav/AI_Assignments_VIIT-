{
  "nbformat": 4,
  "nbformat_minor": 0,
  "metadata": {
    "colab": {
      "provenance": []
    },
    "kernelspec": {
      "name": "python3",
      "display_name": "Python 3"
    },
    "language_info": {
      "name": "python"
    }
  },
  "cells": [
    {
      "cell_type": "code",
      "execution_count": null,
      "metadata": {
        "colab": {
          "base_uri": "https://localhost:8080/"
        },
        "id": "dO4nnHGI2Y9y",
        "outputId": "b0615e3e-65bf-468f-ba27-a0454ecdd3af"
      },
      "outputs": [
        {
          "output_type": "stream",
          "name": "stdout",
          "text": [
            "The optimal value is : 12\n"
          ]
        }
      ],
      "source": [
        "import math\n",
        "\n",
        "def minimax (curDepth, nodeIndex,\n",
        "\t\t\tmaxTurn, scores,\n",
        "\t\t\ttargetDepth):\n",
        "\n",
        "\t# base case : targetDepth reached\n",
        "\tif (curDepth == targetDepth):\n",
        "\t\treturn scores[nodeIndex]\n",
        "\n",
        "\tif (maxTurn):\n",
        "\t\treturn max(minimax(curDepth + 1, nodeIndex * 2,\n",
        "\t\t\t\t\tFalse, scores, targetDepth),\n",
        "\t\t\t\tminimax(curDepth + 1, nodeIndex * 2 + 1,\n",
        "\t\t\t\t\tFalse, scores, targetDepth))\n",
        "\n",
        "\telse:\n",
        "\t\treturn min(minimax(curDepth + 1, nodeIndex * 2,\n",
        "\t\t\t\t\tTrue, scores, targetDepth),\n",
        "\t\t\t\tminimax(curDepth + 1, nodeIndex * 2 + 1,\n",
        "\t\t\t\t\tTrue, scores, targetDepth))\n",
        "\n",
        "scores = [3, 5, 2, 9, 12, 5, 23, 23]\n",
        "\n",
        "treeDepth = math.log(len(scores), 2)\n",
        "\n",
        "print(\"The optimal value is : \", end = \"\")\n",
        "print(minimax(0, 0, True, scores, treeDepth))"
      ]
    }
  ]
}