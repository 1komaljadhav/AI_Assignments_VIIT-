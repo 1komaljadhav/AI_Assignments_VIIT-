{
  "nbformat": 4,
  "nbformat_minor": 0,
  "metadata": {
    "colab": {
      "provenance": []
    },
    "kernelspec": {
      "name": "python3",
      "display_name": "Python 3"
    },
    "language_info": {
      "name": "python"
    }
  },
  "cells": [
    {
      "cell_type": "code",
      "execution_count": 1,
      "metadata": {
        "colab": {
          "base_uri": "https://localhost:8080/"
        },
        "id": "wIxi3Ba2Z3GK",
        "outputId": "68c16756-83f1-4f04-c3cf-057b8d7cc219"
      },
      "outputs": [
        {
          "output_type": "stream",
          "name": "stdout",
          "text": [
            "To prove F, we need to prove ['B', 'E']\n",
            "Goal B is already a known fact.\n",
            "To prove E, we need to prove ['D']\n",
            "To prove D, we need to prove ['C']\n",
            "To prove C, we need to prove ['A', 'B']\n",
            "Goal A is already a known fact.\n",
            "Goal B is already a known fact.\n",
            "Proved: C\n",
            "Proved: D\n",
            "Proved: E\n",
            "Proved: F\n",
            "\n",
            "Final Facts: {'F', 'B', 'E', 'D', 'A', 'C'}\n"
          ]
        }
      ],
      "source": [
        "class BackwardChaining:\n",
        "    def __init__(self, rules, facts):\n",
        "        self.rules = rules  # List of rules as tuples (conditions, conclusion)\n",
        "        self.facts = facts  # Known facts\n",
        "\n",
        "    def is_fact(self, goal):\n",
        "        # Check if the goal is already a fact\n",
        "        return goal in self.facts\n",
        "\n",
        "    def apply_rule(self, rule, goal):\n",
        "        # Check if the rule's conclusion matches the goal\n",
        "        conditions, conclusion = rule\n",
        "        if conclusion == goal:\n",
        "            return conditions\n",
        "        return None\n",
        "\n",
        "    def prove(self, goal):\n",
        "        # If goal is already a fact, no need to infer further\n",
        "        if self.is_fact(goal):\n",
        "            print(f\"Goal {goal} is already a known fact.\")\n",
        "            return True\n",
        "\n",
        "        # Try to prove the goal using rules\n",
        "        for rule in self.rules:\n",
        "            conditions = self.apply_rule(rule, goal)\n",
        "            if conditions:\n",
        "                print(f\"To prove {goal}, we need to prove {conditions}\")\n",
        "                for condition in conditions:\n",
        "                    if not self.prove(condition):\n",
        "                        return False\n",
        "                print(f\"Proved: {goal}\")\n",
        "                self.facts.add(goal)  # Add the proved goal to facts\n",
        "                return True\n",
        "\n",
        "        # If no rule can prove the goal, return False\n",
        "        print(f\"Cannot prove: {goal}\")\n",
        "        return False\n",
        "\n",
        "\n",
        "# Example of usage:\n",
        "\n",
        "# Define the rules: Each rule is a tuple (conditions, conclusion)\n",
        "rules = [\n",
        "    (['A', 'B'], 'C'),\n",
        "    (['C'], 'D'),\n",
        "    (['D'], 'E'),\n",
        "    (['B', 'E'], 'F')\n",
        "]\n",
        "\n",
        "# Initial known facts\n",
        "facts = {'A', 'B'}\n",
        "\n",
        "# Initialize backward chaining system\n",
        "bc = BackwardChaining(rules, facts)\n",
        "\n",
        "# Try to prove the goal F\n",
        "goal = 'F'\n",
        "bc.prove(goal)\n",
        "\n",
        "print(\"\\nFinal Facts:\", facts)\n"
      ]
    },
    {
      "cell_type": "code",
      "source": [],
      "metadata": {
        "id": "-MrbufkmZ7nJ"
      },
      "execution_count": null,
      "outputs": []
    }
  ]
}